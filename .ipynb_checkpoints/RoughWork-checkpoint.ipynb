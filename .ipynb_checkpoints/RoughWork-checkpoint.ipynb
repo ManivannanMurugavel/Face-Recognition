{
 "cells": [
  {
   "cell_type": "code",
   "execution_count": 1,
   "metadata": {},
   "outputs": [],
   "source": [
    "import cv2\n",
    "import face_recognition as fr"
   ]
  },
  {
   "cell_type": "code",
   "execution_count": 6,
   "metadata": {},
   "outputs": [
    {
     "data": {
      "text/plain": [
       "array([[127, 192, 188, ..., 186, 186, 186],\n",
       "       [193, 255, 255, ..., 255, 255, 255],\n",
       "       [188, 255, 254, ..., 254, 254, 254],\n",
       "       ..., \n",
       "       [ 64,  79,  82, ...,  90,  95,  91],\n",
       "       [ 68,  77,  82, ...,  99, 100,  92],\n",
       "       [ 60,  65,  72, ...,  85,  83,  73]], dtype=uint8)"
      ]
     },
     "execution_count": 6,
     "metadata": {},
     "output_type": "execute_result"
    }
   ],
   "source": [
    "img = cv2.imread('test.jpg',0)\n",
    "cv2.imwrite('gray.jpg',img)\n",
    "img"
   ]
  },
  {
   "cell_type": "code",
   "execution_count": 9,
   "metadata": {},
   "outputs": [
    {
     "name": "stdout",
     "output_type": "stream",
     "text": [
      "[[[127 127 127]\n",
      "  [192 192 192]\n",
      "  [188 188 188]\n",
      "  ..., \n",
      "  [186 186 186]\n",
      "  [186 186 186]\n",
      "  [186 186 186]]\n",
      "\n",
      " [[193 193 193]\n",
      "  [255 255 255]\n",
      "  [255 255 255]\n",
      "  ..., \n",
      "  [255 255 255]\n",
      "  [255 255 255]\n",
      "  [255 255 255]]\n",
      "\n",
      " [[188 188 188]\n",
      "  [255 255 255]\n",
      "  [254 254 254]\n",
      "  ..., \n",
      "  [254 254 254]\n",
      "  [254 254 254]\n",
      "  [254 254 254]]\n",
      "\n",
      " ..., \n",
      " [[ 75  57  71]\n",
      "  [ 93  69  93]\n",
      "  [ 95  72 101]\n",
      "  ..., \n",
      "  [ 94  81 125]\n",
      "  [ 87  92 134]\n",
      "  [ 88  86 123]]\n",
      "\n",
      " [[ 72  64  77]\n",
      "  [ 94  68  79]\n",
      "  [ 93  75  91]\n",
      "  ..., \n",
      "  [100  90 140]\n",
      "  [ 94  95 139]\n",
      "  [ 95  85 119]]\n",
      "\n",
      " [[ 66  55  72]\n",
      "  [ 73  61  63]\n",
      "  [ 78  69  74]\n",
      "  ..., \n",
      "  [ 82  80 119]\n",
      "  [ 79  80 110]\n",
      "  [ 81  66  85]]]\n"
     ]
    }
   ],
   "source": [
    "known_image_clr = fr.load_image_file(\"test.jpg\")\n",
    "known_image_gray = fr.load_image_file(\"gray.jpg\")\n",
    "print(known_image_clr)\n",
    "print(10*'----')\n",
    "print(known_image_gray)"
   ]
  },
  {
   "cell_type": "code",
   "execution_count": 10,
   "metadata": {},
   "outputs": [
    {
     "name": "stdout",
     "output_type": "stream",
     "text": [
      "[[[127 127 127]\n",
      "  [191 191 191]\n",
      "  [188 188 188]\n",
      "  ..., \n",
      "  [186 186 186]\n",
      "  [186 186 186]\n",
      "  [186 186 186]]\n",
      "\n",
      " [[193 193 193]\n",
      "  [255 255 255]\n",
      "  [255 255 255]\n",
      "  ..., \n",
      "  [255 255 255]\n",
      "  [255 255 255]\n",
      "  [255 255 255]]\n",
      "\n",
      " [[187 187 187]\n",
      "  [254 254 254]\n",
      "  [254 254 254]\n",
      "  ..., \n",
      "  [254 254 254]\n",
      "  [254 254 254]\n",
      "  [254 254 254]]\n",
      "\n",
      " ..., \n",
      " [[ 64  64  64]\n",
      "  [ 77  77  77]\n",
      "  [ 82  82  82]\n",
      "  ..., \n",
      "  [ 91  91  91]\n",
      "  [ 94  94  94]\n",
      "  [ 90  90  90]]\n",
      "\n",
      " [[ 70  70  70]\n",
      "  [ 77  77  77]\n",
      "  [ 83  83  83]\n",
      "  ..., \n",
      "  [100 100 100]\n",
      "  [ 99  99  99]\n",
      "  [ 92  92  92]]\n",
      "\n",
      " [[ 59  59  59]\n",
      "  [ 64  64  64]\n",
      "  [ 71  71  71]\n",
      "  ..., \n",
      "  [ 85  85  85]\n",
      "  [ 82  82  82]\n",
      "  [ 73  73  73]]]\n"
     ]
    }
   ],
   "source": []
  },
  {
   "cell_type": "code",
   "execution_count": null,
   "metadata": {},
   "outputs": [],
   "source": []
  }
 ],
 "metadata": {
  "kernelspec": {
   "display_name": "Python 3",
   "language": "python",
   "name": "python3"
  },
  "language_info": {
   "codemirror_mode": {
    "name": "ipython",
    "version": 3
   },
   "file_extension": ".py",
   "mimetype": "text/x-python",
   "name": "python",
   "nbconvert_exporter": "python",
   "pygments_lexer": "ipython3",
   "version": "3.5.2"
  }
 },
 "nbformat": 4,
 "nbformat_minor": 2
}
